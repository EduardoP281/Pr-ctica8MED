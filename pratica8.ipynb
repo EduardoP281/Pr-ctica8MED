{
 "cells": [
  {
   "cell_type": "code",
   "execution_count": null,
   "metadata": {},
   "outputs": [],
   "source": [
    "with open('archivo.txt', 'r') as file:\n",
    "    for line in file:\n",
    "        print(line.strip())"
   ]
  },
  {
   "cell_type": "code",
   "execution_count": null,
   "metadata": {},
   "outputs": [],
   "source": [
    "nombres = []\n",
    "while True:\n",
    "    nombre = input(\"Ingrese un nombre (o escriba 'fin' para terminar): \")\n",
    "    if nombre == \"fin\":\n",
    "        break\n",
    "    nombres.append(nombre)\n",
    "\n",
    "with open(\"nombres.txt\", \"w\") as archivo:\n",
    "    for nombre in nombres:\n",
    "        archivo.write(nombre + \"\\n\")"
   ]
  },
  {
   "cell_type": "code",
   "execution_count": null,
   "metadata": {},
   "outputs": [],
   "source": [
    "try:\n",
    "    with open(\"archivo_inexistente.txt\", \"r\") as file:\n",
    "        content = file.read()\n",
    "except FileNotFoundError:\n",
    "    print(\"El archivo no se encuentra.\")"
   ]
  }
 ],
 "metadata": {
  "language_info": {
   "name": "python"
  }
 },
 "nbformat": 4,
 "nbformat_minor": 2
}
